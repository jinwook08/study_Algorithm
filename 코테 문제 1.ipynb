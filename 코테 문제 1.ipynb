{
 "cells": [
  {
   "cell_type": "code",
   "execution_count": 1,
   "metadata": {},
   "outputs": [
    {
     "ename": "SyntaxError",
     "evalue": "invalid syntax (<ipython-input-1-1511b1682d67>, line 1)",
     "output_type": "error",
     "traceback": [
      "\u001b[1;36m  File \u001b[1;32m\"<ipython-input-1-1511b1682d67>\"\u001b[1;36m, line \u001b[1;32m1\u001b[0m\n\u001b[1;33m    ```python\u001b[0m\n\u001b[1;37m    ^\u001b[0m\n\u001b[1;31mSyntaxError\u001b[0m\u001b[1;31m:\u001b[0m invalid syntax\n"
     ]
    }
   ],
   "source": [
    "```python\n",
    "섬으로 향하라!\n",
    "\n",
    "'   + -- + - + -   '\n",
    "'   + --- + - +   '\n",
    "'   + -- + - + -   '\n",
    "'   + - + - + - +   '\n",
    "\n",
    "해(**1**)와 달(**0**),\n",
    "Code의 세상 안으로!(**En-Coding**)\n",
    "```"
   ]
  },
  {
   "cell_type": "markdown",
   "metadata": {},
   "source": [
    "+ = 1 로 - = 0으로 해서 이진법으로 바꿔보자 "
   ]
  },
  {
   "cell_type": "code",
   "execution_count": 48,
   "metadata": {},
   "outputs": [
    {
     "data": {
      "text/plain": [
       "['2/1 = 2.0',\n",
       " '2/3 = 0.6666666666666666',\n",
       " '2/5 = 0.4',\n",
       " '2/7 = 0.2857142857142857',\n",
       " '2/9 = 0.2222222222222222',\n",
       " '2/11 = 0.18181818181818182',\n",
       " '3/1 = 3.0',\n",
       " '3/3 = 1.0',\n",
       " '3/5 = 0.6',\n",
       " '3/7 = 0.42857142857142855',\n",
       " '3/9 = 0.3333333333333333',\n",
       " '3/11 = 0.2727272727272727',\n",
       " '4/1 = 4.0',\n",
       " '4/3 = 1.3333333333333333',\n",
       " '4/5 = 0.8',\n",
       " '4/7 = 0.5714285714285714',\n",
       " '4/9 = 0.4444444444444444',\n",
       " '4/11 = 0.36363636363636365',\n",
       " '5/1 = 5.0',\n",
       " '5/3 = 1.6666666666666667',\n",
       " '5/5 = 1.0',\n",
       " '5/7 = 0.7142857142857143',\n",
       " '5/9 = 0.5555555555555556',\n",
       " '5/11 = 0.45454545454545453',\n",
       " '6/1 = 6.0',\n",
       " '6/3 = 2.0',\n",
       " '6/5 = 1.2',\n",
       " '6/7 = 0.8571428571428571',\n",
       " '6/9 = 0.6666666666666666',\n",
       " '6/11 = 0.5454545454545454',\n",
       " '7/1 = 7.0',\n",
       " '7/3 = 2.3333333333333335',\n",
       " '7/5 = 1.4',\n",
       " '7/7 = 1.0',\n",
       " '7/9 = 0.7777777777777778',\n",
       " '7/11 = 0.6363636363636364',\n",
       " '8/1 = 8.0',\n",
       " '8/3 = 2.6666666666666665',\n",
       " '8/5 = 1.6',\n",
       " '8/7 = 1.1428571428571428',\n",
       " '8/9 = 0.8888888888888888',\n",
       " '8/11 = 0.7272727272727273',\n",
       " '9/1 = 9.0',\n",
       " '9/3 = 3.0',\n",
       " '9/5 = 1.8',\n",
       " '9/7 = 1.2857142857142858',\n",
       " '9/9 = 1.0',\n",
       " '9/11 = 0.8181818181818182',\n",
       " '10/1 = 10.0',\n",
       " '10/3 = 3.3333333333333335',\n",
       " '10/5 = 2.0',\n",
       " '10/7 = 1.4285714285714286',\n",
       " '10/9 = 1.1111111111111112',\n",
       " '10/11 = 0.9090909090909091',\n",
       " '11/1 = 11.0',\n",
       " '11/3 = 3.6666666666666665',\n",
       " '11/5 = 2.2',\n",
       " '11/7 = 1.5714285714285714',\n",
       " '11/9 = 1.2222222222222223',\n",
       " '11/11 = 1.0',\n",
       " '12/1 = 12.0',\n",
       " '12/3 = 4.0',\n",
       " '12/5 = 2.4',\n",
       " '12/7 = 1.7142857142857142',\n",
       " '12/9 = 1.3333333333333333',\n",
       " '12/11 = 1.0909090909090908',\n",
       " '13/1 = 13.0',\n",
       " '13/3 = 4.333333333333333',\n",
       " '13/5 = 2.6',\n",
       " '13/7 = 1.8571428571428572',\n",
       " '13/9 = 1.4444444444444444',\n",
       " '13/11 = 1.1818181818181819',\n",
       " '14/1 = 14.0',\n",
       " '14/3 = 4.666666666666667',\n",
       " '14/5 = 2.8',\n",
       " '14/7 = 2.0',\n",
       " '14/9 = 1.5555555555555556',\n",
       " '14/11 = 1.2727272727272727',\n",
       " '15/1 = 15.0',\n",
       " '15/3 = 5.0',\n",
       " '15/5 = 3.0',\n",
       " '15/7 = 2.142857142857143',\n",
       " '15/9 = 1.6666666666666667',\n",
       " '15/11 = 1.3636363636363635',\n",
       " '16/1 = 16.0',\n",
       " '16/3 = 5.333333333333333',\n",
       " '16/5 = 3.2',\n",
       " '16/7 = 2.2857142857142856',\n",
       " '16/9 = 1.7777777777777777',\n",
       " '16/11 = 1.4545454545454546',\n",
       " '17/1 = 17.0',\n",
       " '17/3 = 5.666666666666667',\n",
       " '17/5 = 3.4',\n",
       " '17/7 = 2.4285714285714284',\n",
       " '17/9 = 1.8888888888888888',\n",
       " '17/11 = 1.5454545454545454',\n",
       " '18/1 = 18.0',\n",
       " '18/3 = 6.0',\n",
       " '18/5 = 3.6',\n",
       " '18/7 = 2.5714285714285716',\n",
       " '18/9 = 2.0',\n",
       " '18/11 = 1.6363636363636365',\n",
       " '19/1 = 19.0',\n",
       " '19/3 = 6.333333333333333',\n",
       " '19/5 = 3.8',\n",
       " '19/7 = 2.7142857142857144',\n",
       " '19/9 = 2.111111111111111',\n",
       " '19/11 = 1.7272727272727273',\n",
       " '20/1 = 20.0',\n",
       " '20/3 = 6.666666666666667',\n",
       " '20/5 = 4.0',\n",
       " '20/7 = 2.857142857142857',\n",
       " '20/9 = 2.2222222222222223',\n",
       " '20/11 = 1.8181818181818181',\n",
       " '21/1 = 21.0',\n",
       " '21/3 = 7.0',\n",
       " '21/5 = 4.2',\n",
       " '21/7 = 3.0',\n",
       " '21/9 = 2.3333333333333335',\n",
       " '21/11 = 1.9090909090909092',\n",
       " '22/1 = 22.0',\n",
       " '22/3 = 7.333333333333333',\n",
       " '22/5 = 4.4',\n",
       " '22/7 = 3.142857142857143',\n",
       " '22/9 = 2.4444444444444446',\n",
       " '22/11 = 2.0',\n",
       " '23/1 = 23.0',\n",
       " '23/3 = 7.666666666666667',\n",
       " '23/5 = 4.6',\n",
       " '23/7 = 3.2857142857142856',\n",
       " '23/9 = 2.5555555555555554',\n",
       " '23/11 = 2.090909090909091',\n",
       " '24/1 = 24.0',\n",
       " '24/3 = 8.0',\n",
       " '24/5 = 4.8',\n",
       " '24/7 = 3.4285714285714284',\n",
       " '24/9 = 2.6666666666666665',\n",
       " '24/11 = 2.1818181818181817',\n",
       " '25/1 = 25.0',\n",
       " '25/3 = 8.333333333333334',\n",
       " '25/5 = 5.0',\n",
       " '25/7 = 3.5714285714285716',\n",
       " '25/9 = 2.7777777777777777',\n",
       " '25/11 = 2.272727272727273',\n",
       " '26/1 = 26.0',\n",
       " '26/3 = 8.666666666666666',\n",
       " '26/5 = 5.2',\n",
       " '26/7 = 3.7142857142857144',\n",
       " '26/9 = 2.888888888888889',\n",
       " '26/11 = 2.3636363636363638',\n",
       " '27/1 = 27.0',\n",
       " '27/3 = 9.0',\n",
       " '27/5 = 5.4',\n",
       " '27/7 = 3.857142857142857',\n",
       " '27/9 = 3.0',\n",
       " '27/11 = 2.4545454545454546',\n",
       " '28/1 = 28.0',\n",
       " '28/3 = 9.333333333333334',\n",
       " '28/5 = 5.6',\n",
       " '28/7 = 4.0',\n",
       " '28/9 = 3.111111111111111',\n",
       " '28/11 = 2.5454545454545454',\n",
       " '29/1 = 29.0',\n",
       " '29/3 = 9.666666666666666',\n",
       " '29/5 = 5.8',\n",
       " '29/7 = 4.142857142857143',\n",
       " '29/9 = 3.2222222222222223',\n",
       " '29/11 = 2.6363636363636362']"
      ]
     },
     "execution_count": 48,
     "metadata": {},
     "output_type": "execute_result"
    }
   ],
   "source": [
    "[f'{i}/{j} = {i/j}' for i in range(2, 30) for j in range(1,12,2)]"
   ]
  },
  {
   "cell_type": "code",
   "execution_count": 39,
   "metadata": {
    "collapsed": true
   },
   "outputs": [
    {
     "data": {
      "text/plain": [
       "['2 X 1 = 2',\n",
       " '2 X 2 = 4',\n",
       " '2 X 3 = 6',\n",
       " '2 X 4 = 8',\n",
       " '2 X 5 = 10',\n",
       " '2 X 6 = 12',\n",
       " '2 X 7 = 14',\n",
       " '2 X 8 = 16',\n",
       " '2 X 9 = 18',\n",
       " '3 X 1 = 3',\n",
       " '3 X 2 = 6',\n",
       " '3 X 3 = 9',\n",
       " '3 X 4 = 12',\n",
       " '3 X 5 = 15',\n",
       " '3 X 6 = 18',\n",
       " '3 X 7 = 21',\n",
       " '3 X 8 = 24',\n",
       " '3 X 9 = 27',\n",
       " '4 X 1 = 4',\n",
       " '4 X 2 = 8',\n",
       " '4 X 3 = 12',\n",
       " '4 X 4 = 16',\n",
       " '4 X 5 = 20',\n",
       " '4 X 6 = 24',\n",
       " '4 X 7 = 28',\n",
       " '4 X 8 = 32',\n",
       " '4 X 9 = 36',\n",
       " '5 X 1 = 5',\n",
       " '5 X 2 = 10',\n",
       " '5 X 3 = 15',\n",
       " '5 X 4 = 20',\n",
       " '5 X 5 = 25',\n",
       " '5 X 6 = 30',\n",
       " '5 X 7 = 35',\n",
       " '5 X 8 = 40',\n",
       " '5 X 9 = 45',\n",
       " '6 X 1 = 6',\n",
       " '6 X 2 = 12',\n",
       " '6 X 3 = 18',\n",
       " '6 X 4 = 24',\n",
       " '6 X 5 = 30',\n",
       " '6 X 6 = 36',\n",
       " '6 X 7 = 42',\n",
       " '6 X 8 = 48',\n",
       " '6 X 9 = 54',\n",
       " '7 X 1 = 7',\n",
       " '7 X 2 = 14',\n",
       " '7 X 3 = 21',\n",
       " '7 X 4 = 28',\n",
       " '7 X 5 = 35',\n",
       " '7 X 6 = 42',\n",
       " '7 X 7 = 49',\n",
       " '7 X 8 = 56',\n",
       " '7 X 9 = 63',\n",
       " '8 X 1 = 8',\n",
       " '8 X 2 = 16',\n",
       " '8 X 3 = 24',\n",
       " '8 X 4 = 32',\n",
       " '8 X 5 = 40',\n",
       " '8 X 6 = 48',\n",
       " '8 X 7 = 56',\n",
       " '8 X 8 = 64',\n",
       " '8 X 9 = 72',\n",
       " '9 X 1 = 9',\n",
       " '9 X 2 = 18',\n",
       " '9 X 3 = 27',\n",
       " '9 X 4 = 36',\n",
       " '9 X 5 = 45',\n",
       " '9 X 6 = 54',\n",
       " '9 X 7 = 63',\n",
       " '9 X 8 = 72',\n",
       " '9 X 9 = 81']"
      ]
     },
     "execution_count": 39,
     "metadata": {},
     "output_type": "execute_result"
    }
   ],
   "source": [
    "[f'{i} X {j} = {i*j}'for i in range(2, 10) for j in range(1, 10)]"
   ]
  },
  {
   "cell_type": "code",
   "execution_count": 2,
   "metadata": {},
   "outputs": [],
   "source": [
    "text = ['   + -- + - + -   ',\n",
    "'   + --- + - +   ',\n",
    "'   + -- + - + -   ',\n",
    "'   + - + - + - +   ']"
   ]
  },
  {
   "cell_type": "code",
   "execution_count": 13,
   "metadata": {},
   "outputs": [],
   "source": [
    "list = []\n",
    "for i in text:\n",
    "    list.append(chr(int(i.strip().replace(' ','').replace('+','1').replace('-','0'),2)))\n",
    "    "
   ]
  },
  {
   "cell_type": "code",
   "execution_count": 15,
   "metadata": {},
   "outputs": [
    {
     "data": {
      "text/plain": [
       "'JEJU'"
      ]
     },
     "execution_count": 15,
     "metadata": {},
     "output_type": "execute_result"
    }
   ],
   "source": [
    "''.join(list)"
   ]
  },
  {
   "cell_type": "code",
   "execution_count": 4,
   "metadata": {},
   "outputs": [
    {
     "name": "stdout",
     "output_type": "stream",
     "text": [
      "1001010\n",
      "1000101\n",
      "1001010\n",
      "1010101\n"
     ]
    }
   ],
   "source": [
    "for i in text:\n",
    "    print(i.strip().replace(' ','').replace('+','1').replace('-','0'))"
   ]
  },
  {
   "cell_type": "markdown",
   "metadata": {},
   "source": [
    "인코딩이란? --> 부호화 인코딩은 문자나 기호들의 집합을 컴퓨터에서 표현하는 방법이다. 위의 2진법을 10진법으로 바꿔서 작업해야하는데 \n",
    "int를 쓰면 다른 값이 나오니 2진법임을 증명시키고 10진법으로 바꿔야한다,"
   ]
  },
  {
   "cell_type": "code",
   "execution_count": 8,
   "metadata": {},
   "outputs": [
    {
     "name": "stdout",
     "output_type": "stream",
     "text": [
      "74\n",
      "69\n",
      "74\n",
      "85\n"
     ]
    }
   ],
   "source": [
    "for i in text:\n",
    "    print(int(i.strip().replace(' ','').replace('+','1').replace('-','0'),2))"
   ]
  },
  {
   "cell_type": "markdown",
   "metadata": {},
   "source": [
    "숫자들이 10진법으로 바뀌었다.\n",
    "#ord() : 문자 --> 숫자 \n",
    "#chr() : 숫자 --> 문자\n"
   ]
  },
  {
   "cell_type": "code",
   "execution_count": 11,
   "metadata": {},
   "outputs": [],
   "source": [
    "li = []\n",
    "for i in text:\n",
    "    li.append(chr(int(i.strip().replace(' ','').replace('+','1').replace('-','0'),2)))"
   ]
  },
  {
   "cell_type": "code",
   "execution_count": 13,
   "metadata": {},
   "outputs": [
    {
     "data": {
      "text/plain": [
       "'JEJU'"
      ]
     },
     "execution_count": 13,
     "metadata": {},
     "output_type": "execute_result"
    }
   ],
   "source": [
    "''.join(li)"
   ]
  },
  {
   "cell_type": "code",
   "execution_count": 23,
   "metadata": {},
   "outputs": [
    {
     "data": {
      "text/plain": [
       "'J E J U'"
      ]
     },
     "execution_count": 23,
     "metadata": {},
     "output_type": "execute_result"
    }
   ],
   "source": [
    "' '.join([chr(int(i.strip().replace(' ','').replace('+','1').replace('-','0'),2)) for i in text])"
   ]
  },
  {
   "cell_type": "code",
   "execution_count": 17,
   "metadata": {
    "scrolled": true
   },
   "outputs": [
    {
     "data": {
      "text/plain": [
       "'JEJU'"
      ]
     },
     "execution_count": 17,
     "metadata": {},
     "output_type": "execute_result"
    }
   ],
   "source": [
    "''.join([chr(int(i.strip().replace(' ','').replace('+', '1').replace('-','0'),2)) for i in text])"
   ]
  },
  {
   "cell_type": "code",
   "execution_count": 12,
   "metadata": {},
   "outputs": [
    {
     "data": {
      "text/plain": [
       "'JEJU'"
      ]
     },
     "execution_count": 12,
     "metadata": {},
     "output_type": "execute_result"
    }
   ],
   "source": [
    "''.join([chr(int(i.strip().replace(' ','').replace('+','1').replace('-','0'),2)) for i in text])"
   ]
  },
  {
   "cell_type": "code",
   "execution_count": 31,
   "metadata": {},
   "outputs": [
    {
     "data": {
      "text/plain": [
       "'JEJU'"
      ]
     },
     "execution_count": 31,
     "metadata": {},
     "output_type": "execute_result"
    }
   ],
   "source": [
    "\n",
    "''.join([chr(int(i.strip().replace('+','1').replace('-','0').replace(' ',''),2)) for i in text])"
   ]
  },
  {
   "cell_type": "code",
   "execution_count": 18,
   "metadata": {},
   "outputs": [
    {
     "data": {
      "text/plain": [
       "[0, 2, 4, 6, 8]"
      ]
     },
     "execution_count": 18,
     "metadata": {},
     "output_type": "execute_result"
    }
   ],
   "source": [
    "[i for i in range(10) if i%2 ==0]"
   ]
  },
  {
   "cell_type": "code",
   "execution_count": 36,
   "metadata": {},
   "outputs": [
    {
     "data": {
      "text/plain": [
       "'2X1 = 22X2 = 42X3 = 62X4 = 82X5 = 102X6 = 122X7 = 142X8 = 162X9 = 183X1 = 33X2 = 63X3 = 93X4 = 123X5 = 153X6 = 183X7 = 213X8 = 243X9 = 274X1 = 44X2 = 84X3 = 124X4 = 164X5 = 204X6 = 244X7 = 284X8 = 324X9 = 365X1 = 55X2 = 105X3 = 155X4 = 205X5 = 255X6 = 305X7 = 355X8 = 405X9 = 456X1 = 66X2 = 126X3 = 186X4 = 246X5 = 306X6 = 366X7 = 426X8 = 486X9 = 547X1 = 77X2 = 147X3 = 217X4 = 287X5 = 357X6 = 427X7 = 497X8 = 567X9 = 638X1 = 88X2 = 168X3 = 248X4 = 328X5 = 408X6 = 488X7 = 568X8 = 648X9 = 729X1 = 99X2 = 189X3 = 279X4 = 369X5 = 459X6 = 549X7 = 639X8 = 729X9 = 81'"
      ]
     },
     "execution_count": 36,
     "metadata": {},
     "output_type": "execute_result"
    }
   ],
   "source": [
    "[f'{i}X{j} = {i*j}'  for i in range(2, 10) for j in range(1, 10)]"
   ]
  },
  {
   "cell_type": "code",
   "execution_count": 28,
   "metadata": {},
   "outputs": [
    {
     "data": {
      "text/plain": [
       "'0000000111'"
      ]
     },
     "execution_count": 28,
     "metadata": {},
     "output_type": "execute_result"
    }
   ],
   "source": [
    "# replace랑 많이 쓰는애\n",
    "'111'.zfill(10)\n",
    "# zifill(10)은 10자리로 맞춰준다 "
   ]
  },
  {
   "cell_type": "code",
   "execution_count": 49,
   "metadata": {},
   "outputs": [],
   "source": [
    "sample = [i.strip().replace(' ', '').replace('+', '1').replace('-', '0') for i in text]"
   ]
  },
  {
   "cell_type": "code",
   "execution_count": 29,
   "metadata": {},
   "outputs": [],
   "source": [
    "sample = [i.strip().replace(' ','').replace('+', '1').replace('-','0') for i in text]"
   ]
  },
  {
   "cell_type": "code",
   "execution_count": 58,
   "metadata": {},
   "outputs": [
    {
     "data": {
      "text/plain": [
       "['1001010', '1000101', '1001010', '1010101']"
      ]
     },
     "execution_count": 58,
     "metadata": {},
     "output_type": "execute_result"
    }
   ],
   "source": [
    "sample"
   ]
  },
  {
   "cell_type": "code",
   "execution_count": 62,
   "metadata": {},
   "outputs": [],
   "source": [
    "smaple2 = [i.strip().replace(' ','').replace('+','1').replace('-','0') for i in text2]"
   ]
  },
  {
   "cell_type": "code",
   "execution_count": 63,
   "metadata": {},
   "outputs": [
    {
     "data": {
      "text/plain": [
       "['1001010', '1000101', '1001010', '1010101']"
      ]
     },
     "execution_count": 63,
     "metadata": {},
     "output_type": "execute_result"
    }
   ],
   "source": [
    "smaple2"
   ]
  },
  {
   "cell_type": "code",
   "execution_count": 62,
   "metadata": {},
   "outputs": [
    {
     "data": {
      "text/plain": [
       "<map at 0x21ef40cd948>"
      ]
     },
     "execution_count": 62,
     "metadata": {},
     "output_type": "execute_result"
    }
   ],
   "source": [
    "map(lambda x:chr(int(x,2)), sample )"
   ]
  },
  {
   "cell_type": "code",
   "execution_count": 33,
   "metadata": {},
   "outputs": [
    {
     "data": {
      "text/plain": [
       "['J', 'E', 'J', 'U']"
      ]
     },
     "execution_count": 33,
     "metadata": {},
     "output_type": "execute_result"
    }
   ],
   "source": [
    "map(lambda x: chr(int(x,2)), sample)# 이상태로 실행시키면 주석 값만 나온다. \n",
    "list(map(lambda x: chr(int(x,2)), sample))"
   ]
  },
  {
   "cell_type": "code",
   "execution_count": null,
   "metadata": {},
   "outputs": [],
   "source": [
    "map(lambda x: chr(int(x ,2)), sample)"
   ]
  },
  {
   "cell_type": "code",
   "execution_count": 77,
   "metadata": {},
   "outputs": [
    {
     "data": {
      "text/plain": [
       "<map at 0x21ef40e00c8>"
      ]
     },
     "execution_count": 77,
     "metadata": {},
     "output_type": "execute_result"
    }
   ],
   "source": [
    "map(lambda x: chr(int(x, 2)), sample)"
   ]
  },
  {
   "cell_type": "markdown",
   "metadata": {},
   "source": [
    "```python\n",
    "섬으로 향하라!\n",
    "\n",
    "'   + -- + - + -   '\n",
    "'   + --- + - +   '\n",
    "'   + -- + - + -   '\n",
    "'   + - + - + - +   '\n",
    "\n",
    "해(**1**)와 달(**0**),\n",
    "Code의 세상 안으로!(**En-Coding**)\n",
    "```"
   ]
  },
  {
   "cell_type": "code",
   "execution_count": 37,
   "metadata": {},
   "outputs": [],
   "source": [
    "text2 = ['   + -- + - + -   ',\n",
    "'   + --- + - +   ',\n",
    "'   + -- + - + -   ',\n",
    "'   + - + - + - +   ']"
   ]
  },
  {
   "cell_type": "code",
   "execution_count": 45,
   "metadata": {},
   "outputs": [
    {
     "name": "stdout",
     "output_type": "stream",
     "text": [
      "1001010\n",
      "1000101\n",
      "1001010\n",
      "1010101\n"
     ]
    }
   ],
   "source": [
    "for i in text2:\n",
    "    print(i.strip().replace('+', '1').replace('-', '0').replace(' ',''))"
   ]
  },
  {
   "cell_type": "code",
   "execution_count": 54,
   "metadata": {},
   "outputs": [
    {
     "name": "stdout",
     "output_type": "stream",
     "text": [
      "74\n",
      "69\n",
      "74\n",
      "85\n"
     ]
    }
   ],
   "source": [
    "for i in text2:\n",
    "    print(int(i.strip().replace('+','1').replace('-','0').replace(' ', ''),2))"
   ]
  },
  {
   "cell_type": "code",
   "execution_count": 56,
   "metadata": {},
   "outputs": [],
   "source": [
    "l = []\n",
    "for i in text2:\n",
    "    l.append(chr(int(i.strip().replace('+','1').replace('-','0').replace(' ',''),2)))"
   ]
  },
  {
   "cell_type": "code",
   "execution_count": 59,
   "metadata": {},
   "outputs": [
    {
     "data": {
      "text/plain": [
       "'JEJU'"
      ]
     },
     "execution_count": 59,
     "metadata": {},
     "output_type": "execute_result"
    }
   ],
   "source": [
    "''.join(l)"
   ]
  },
  {
   "cell_type": "code",
   "execution_count": 71,
   "metadata": {},
   "outputs": [],
   "source": [
    "s = [i.strip().replace('+','1').replace('-','0').replace(' ','')for i in text]"
   ]
  },
  {
   "cell_type": "code",
   "execution_count": 72,
   "metadata": {},
   "outputs": [
    {
     "data": {
      "text/plain": [
       "['1001010', '1000101', '1001010', '1010101']"
      ]
     },
     "execution_count": 72,
     "metadata": {},
     "output_type": "execute_result"
    }
   ],
   "source": [
    "s"
   ]
  },
  {
   "cell_type": "code",
   "execution_count": 76,
   "metadata": {},
   "outputs": [
    {
     "data": {
      "text/plain": [
       "['J', 'E', 'J', 'U']"
      ]
     },
     "execution_count": 76,
     "metadata": {},
     "output_type": "execute_result"
    }
   ],
   "source": [
    "list"
   ]
  },
  {
   "cell_type": "code",
   "execution_count": 75,
   "metadata": {},
   "outputs": [
    {
     "ename": "TypeError",
     "evalue": "'list' object is not callable",
     "output_type": "error",
     "traceback": [
      "\u001b[1;31m---------------------------------------------------------------------------\u001b[0m",
      "\u001b[1;31mTypeError\u001b[0m                                 Traceback (most recent call last)",
      "\u001b[1;32m<ipython-input-75-0c6fd79b8ca3>\u001b[0m in \u001b[0;36m<module>\u001b[1;34m\u001b[0m\n\u001b[1;32m----> 1\u001b[1;33m \u001b[0mlist\u001b[0m \u001b[1;33m=\u001b[0m \u001b[0mlist\u001b[0m\u001b[1;33m(\u001b[0m\u001b[1;33m)\u001b[0m\u001b[1;33m\u001b[0m\u001b[1;33m\u001b[0m\u001b[0m\n\u001b[0m",
      "\u001b[1;31mTypeError\u001b[0m: 'list' object is not callable"
     ]
    }
   ],
   "source": [
    "list = list()"
   ]
  },
  {
   "cell_type": "code",
   "execution_count": 73,
   "metadata": {
    "scrolled": true
   },
   "outputs": [
    {
     "ename": "TypeError",
     "evalue": "'list' object is not callable",
     "output_type": "error",
     "traceback": [
      "\u001b[1;31m---------------------------------------------------------------------------\u001b[0m",
      "\u001b[1;31mTypeError\u001b[0m                                 Traceback (most recent call last)",
      "\u001b[1;32m<ipython-input-73-c7e4e6b67d89>\u001b[0m in \u001b[0;36m<module>\u001b[1;34m\u001b[0m\n\u001b[0;32m      2\u001b[0m     \u001b[1;32mreturn\u001b[0m \u001b[0mchr\u001b[0m\u001b[1;33m(\u001b[0m\u001b[0mint\u001b[0m\u001b[1;33m(\u001b[0m\u001b[0mx\u001b[0m\u001b[1;33m,\u001b[0m \u001b[1;36m2\u001b[0m\u001b[1;33m)\u001b[0m\u001b[1;33m)\u001b[0m\u001b[1;33m\u001b[0m\u001b[1;33m\u001b[0m\u001b[0m\n\u001b[0;32m      3\u001b[0m \u001b[1;33m\u001b[0m\u001b[0m\n\u001b[1;32m----> 4\u001b[1;33m \u001b[0mlist\u001b[0m\u001b[1;33m(\u001b[0m\u001b[0mmap\u001b[0m\u001b[1;33m(\u001b[0m\u001b[0mf\u001b[0m\u001b[1;33m,\u001b[0m \u001b[0ms\u001b[0m\u001b[1;33m)\u001b[0m\u001b[1;33m)\u001b[0m\u001b[1;33m\u001b[0m\u001b[1;33m\u001b[0m\u001b[0m\n\u001b[0m",
      "\u001b[1;31mTypeError\u001b[0m: 'list' object is not callable"
     ]
    }
   ],
   "source": [
    "def f(x):\n",
    "    return chr(int(x, 2))\n",
    "\n",
    "list(map(f, s))"
   ]
  },
  {
   "cell_type": "code",
   "execution_count": null,
   "metadata": {},
   "outputs": [],
   "source": [
    "[lambd]"
   ]
  }
 ],
 "metadata": {
  "kernelspec": {
   "display_name": "Python 3",
   "language": "python",
   "name": "python3"
  },
  "language_info": {
   "codemirror_mode": {
    "name": "ipython",
    "version": 3
   },
   "file_extension": ".py",
   "mimetype": "text/x-python",
   "name": "python",
   "nbconvert_exporter": "python",
   "pygments_lexer": "ipython3",
   "version": "3.7.4"
  }
 },
 "nbformat": 4,
 "nbformat_minor": 4
}
