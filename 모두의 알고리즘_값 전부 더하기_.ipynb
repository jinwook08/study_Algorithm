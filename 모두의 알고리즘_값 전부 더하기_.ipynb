{
 "cells": [
  {
   "cell_type": "code",
   "execution_count": 11,
   "metadata": {},
   "outputs": [
    {
     "name": "stdout",
     "output_type": "stream",
     "text": [
      "55\n"
     ]
    }
   ],
   "source": [
    "# 1부터 n까지 연속한 숫자의 합을 구하는 알고리즘\n",
    "# 입력: n\n",
    "# 출력: 1부터 n까지의 숫자를 더한 값\n",
    "\n",
    "def sum_n(n):\n",
    "    s = 0             # 합을 계산할 변수\n",
    "    for i in range(n+1):        # 1부터 n까지 반복( n + 1은 제외)\n",
    "        s = s + i\n",
    "    return s\n",
    "print(sum_n(10))  # 1부터 10까지의 합"
   ]
  },
  {
   "cell_type": "code",
   "execution_count": 14,
   "metadata": {
    "scrolled": true
   },
   "outputs": [
    {
     "name": "stdout",
     "output_type": "stream",
     "text": [
      "55\n",
      "500500\n"
     ]
    }
   ],
   "source": [
    "def sum_n(n):\n",
    "    return n * (n + 1) // 2  # 슬래시 두개는 정수의 나눗셈을 의미한다.\n",
    "\n",
    "print(sum_n(10))\n",
    "print(sum_n(1000))"
   ]
  },
  {
   "cell_type": "code",
   "execution_count": 31,
   "metadata": {},
   "outputs": [
    {
     "name": "stdout",
     "output_type": "stream",
     "text": [
      "385\n",
      "338350\n"
     ]
    }
   ],
   "source": [
    "def 제곱(n):\n",
    "    s  = 0\n",
    "    for i in range(n + 1):\n",
    "        s = s + (i)**2\n",
    "    return s\n",
    "print(제곱(10))\n",
    "print(제곱(100))"
   ]
  },
  {
   "cell_type": "code",
   "execution_count": 29,
   "metadata": {},
   "outputs": [
    {
     "name": "stdout",
     "output_type": "stream",
     "text": [
      "385\n",
      "338350\n"
     ]
    }
   ],
   "source": [
    "def 제곱(n):\n",
    "    return n * (n + 1) * (2 * n + 1)//6\n",
    "\n",
    "print(제곱(10))\n",
    "print(제곱(100))"
   ]
  },
  {
   "cell_type": "code",
   "execution_count": null,
   "metadata": {},
   "outputs": [],
   "source": []
  }
 ],
 "metadata": {
  "kernelspec": {
   "display_name": "Python 3",
   "language": "python",
   "name": "python3"
  },
  "language_info": {
   "codemirror_mode": {
    "name": "ipython",
    "version": 3
   },
   "file_extension": ".py",
   "mimetype": "text/x-python",
   "name": "python",
   "nbconvert_exporter": "python",
   "pygments_lexer": "ipython3",
   "version": "3.8.3"
  }
 },
 "nbformat": 4,
 "nbformat_minor": 4
}
