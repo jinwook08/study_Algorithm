{
 "cells": [
  {
   "cell_type": "code",
   "execution_count": 5,
   "metadata": {},
   "outputs": [
    {
     "name": "stdout",
     "output_type": "stream",
     "text": [
      "{'Tom'}\n"
     ]
    }
   ],
   "source": [
    "# 두번 이상 나온 이름 찾기\n",
    "# 입력: 이름이 n개 들어 있는 리슽\n",
    "# 출력: 이름 n개 중 반복되는 이름의 집합.\n",
    "\n",
    "def find_same_name(a):\n",
    "    n = len(a)            # 리스트의 자료 개수를 n에 저장\n",
    "    result = set()            # 결과를 저장할 빈 집합\n",
    "    for i in range(0, n-1):        # 0부터 n-2까지 반복(0,n) --> (0, n-1)--> 정상\n",
    "                                    # 파이썬은 0부터 시작하므로 원래 하나 뺴야함\n",
    "                                    # (0, n-1) --> 0부터 n-2까지 \n",
    "                                    # 이 알고리즘에서는 마지막 리스트를 포함 \n",
    "                                    # 시키지 않으므로 \n",
    "        for j in range(i + 1, n):  # i + 1 부터 n - 1 까지 반복\n",
    "                                    # 왜냐하면 i는 위에서 이미 선택되어 있기에 \n",
    "                                    # 자기 자신을 비교할 필요는 없음\n",
    "            if a[i] == a[j]:       # 이름이 같으면\n",
    "                result.add(a[i])    # result 라는 집합에 저장\n",
    "    return result\n",
    "    \n",
    "name = ['Tom', 'Mike', 'Jerry', 'Tom']       # 대소문자 유의: 파이썬은 대소문자를 구분함\n",
    "print(find_same_name(name))"
   ]
  },
  {
   "cell_type": "code",
   "execution_count": 12,
   "metadata": {},
   "outputs": [
    {
     "name": "stdout",
     "output_type": "stream",
     "text": [
      "['Tom - Mike', 'Tom - Jerry', 'Mike - Jerry']\n"
     ]
    }
   ],
   "source": [
    "# n명 중 두 명을 뽑아 짝을 짓는다고 할 때 짝을 지을 수 있는 모든 조합을 출력하는 알고리즘을 만들어 보세요, \n",
    "# 예를 들어 입력이 리스트 ['Tom', 'Jerry', 'Milke']라면 다음과 같은 세가지 경우를 출력합니다. \n",
    "\n",
    "# Tom - Jerry\n",
    "# Tom - Mike\n",
    "# Jerry - Mike \n",
    "\n",
    "def find_all(a):\n",
    "    n = len(a)\n",
    "    li = []\n",
    "    for i in range(0, n-1):\n",
    "        for j in range(i + 1, n):\n",
    "            if a[i] != a[j]:\n",
    "                li.append(f'{a[i]} - {a[j]}')\n",
    "                \n",
    "    return li\n",
    "name = ['Tom', 'Mike', 'Jerry']\n",
    "print(find_all(name))"
   ]
  },
  {
   "cell_type": "code",
   "execution_count": 13,
   "metadata": {},
   "outputs": [
    {
     "name": "stdout",
     "output_type": "stream",
     "text": [
      "Tom - Jerry\n",
      "Tom - Mike\n",
      "Jerry - Mike\n",
      "None\n"
     ]
    }
   ],
   "source": [
    "#  책 정답\n",
    "\n",
    "def print_pairs(a):\n",
    "    n = len(a)\n",
    "    for i in range(0, n-1):\n",
    "        for j in range(i + 1, n):\n",
    "            print(a[i], \"-\" ,a[j])\n",
    "            \n",
    "name = [\"Tom\", \"Jerry\", \"Mike\"]\n",
    "\n",
    "print(print_pairs(name))"
   ]
  },
  {
   "cell_type": "code",
   "execution_count": null,
   "metadata": {},
   "outputs": [],
   "source": []
  }
 ],
 "metadata": {
  "kernelspec": {
   "display_name": "Python 3",
   "language": "python",
   "name": "python3"
  },
  "language_info": {
   "codemirror_mode": {
    "name": "ipython",
    "version": 3
   },
   "file_extension": ".py",
   "mimetype": "text/x-python",
   "name": "python",
   "nbconvert_exporter": "python",
   "pygments_lexer": "ipython3",
   "version": "3.8.3"
  }
 },
 "nbformat": 4,
 "nbformat_minor": 4
}
