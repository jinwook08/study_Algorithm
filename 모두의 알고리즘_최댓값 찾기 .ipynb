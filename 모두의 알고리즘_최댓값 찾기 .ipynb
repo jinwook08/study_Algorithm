{
 "cells": [
  {
   "cell_type": "code",
   "execution_count": 50,
   "metadata": {},
   "outputs": [],
   "source": [
    "# 최댓값 구하기\n",
    "# 입력: 숫자가 n개 들어 있는 리스트\n",
    "# 출력: 숫자 n개 중 최댓값\n",
    "num = [17, 92, 18, 33, 43, 58, 70, 88,1,150]\n",
    "def find_max(num):\n",
    "    n = len(num)       # 입력 크기 n\n",
    "    max_v = num[0]         # 리스트의 첫 번째 값을 최댓값으로 기억\n",
    "    for i in range(1, n):      #1 부터 n-1 까지 반복\n",
    "        if num[i] > max_v:        # 이번 값이 현재까지 기억된 최댓값보다 크면\n",
    "            max_v = num[i]             # 최댓값을 비교\n",
    "    return max_v"
   ]
  },
  {
   "cell_type": "code",
   "execution_count": 51,
   "metadata": {},
   "outputs": [
    {
     "name": "stdout",
     "output_type": "stream",
     "text": [
      "150\n"
     ]
    }
   ],
   "source": [
    "print(find_max(num))"
   ]
  },
  {
   "cell_type": "code",
   "execution_count": 53,
   "metadata": {},
   "outputs": [
    {
     "name": "stdout",
     "output_type": "stream",
     "text": [
      "8\n"
     ]
    }
   ],
   "source": [
    "# 최솟값 구하기\n",
    "# 입력 : 숫자가 n개 들어 있는 리스트\n",
    "# 출력: 숫자 n개 중 최솟값\n",
    "\n",
    "def find_min(a):\n",
    "    n = len(a)         # 입력 크기 \n",
    "    min_vv = 0\n",
    "    min_v = a[0]           # 리스트의 첫 번째 값을 최솟값으로 저장\n",
    "    for i in range(1, n):         # 1부터 n-1까지 반복\n",
    "        if a[i] < min_v:                # 이번 값이 현재까지 기억된 최솟값보다 크면 \n",
    "            min_vv = i                    # 최솟값을 비교\n",
    "    return min_vv\n",
    "print(find_min(num))"
   ]
  },
  {
   "cell_type": "code",
   "execution_count": 22,
   "metadata": {},
   "outputs": [
    {
     "name": "stdout",
     "output_type": "stream",
     "text": [
      "1\n"
     ]
    }
   ],
   "source": [
    "print(find_min(num))"
   ]
  },
  {
   "cell_type": "code",
   "execution_count": 54,
   "metadata": {},
   "outputs": [
    {
     "name": "stdout",
     "output_type": "stream",
     "text": [
      "9\n"
     ]
    }
   ],
   "source": [
    "def find_value_id(a):\n",
    "    n = len(a)\n",
    "    find_value = 0\n",
    "    value_id = a[0]\n",
    "    for i in range(n):\n",
    "        if a[i] > value_id:\n",
    "            find_value = i\n",
    "    return find_value\n",
    "print(find_value_id(num))"
   ]
  },
  {
   "cell_type": "code",
   "execution_count": 56,
   "metadata": {},
   "outputs": [
    {
     "data": {
      "text/plain": [
       "150"
      ]
     },
     "execution_count": 56,
     "metadata": {},
     "output_type": "execute_result"
    }
   ],
   "source": [
    "num[9]"
   ]
  },
  {
   "cell_type": "code",
   "execution_count": 59,
   "metadata": {},
   "outputs": [],
   "source": [
    "def find_max_idx(a):\n",
    "    n = len(a)    # 입력 크기 n\n",
    "    max_idx = 0 # 리스트 중 0번 위치를 최댓값 위치로 기억\n",
    "    for i in range(1, n):\n",
    "        if a[i] > a[max_idx]:\n",
    "            max_idx = i\n",
    "    return max_idx\n"
   ]
  },
  {
   "cell_type": "code",
   "execution_count": 60,
   "metadata": {},
   "outputs": [
    {
     "name": "stdout",
     "output_type": "stream",
     "text": [
      "9\n"
     ]
    }
   ],
   "source": [
    "print(find_max_idx(num))"
   ]
  },
  {
   "cell_type": "code",
   "execution_count": 61,
   "metadata": {},
   "outputs": [],
   "source": [
    "# 숫자 n개를 리스트로 입력받아 최솟값을 구하는 프로그램을 만들어 보세요\n",
    "\n",
    "def find_min_idx(a):\n",
    "    n = len(a)\n",
    "    min_idx = 0\n",
    "    for i in range(n):\n",
    "        if a[i] < a[min_idx]:\n",
    "            min_idx = i\n",
    "    return min_idx"
   ]
  },
  {
   "cell_type": "code",
   "execution_count": 62,
   "metadata": {},
   "outputs": [
    {
     "name": "stdout",
     "output_type": "stream",
     "text": [
      "8\n"
     ]
    }
   ],
   "source": [
    "print(find_min_idx(num))"
   ]
  },
  {
   "cell_type": "code",
   "execution_count": null,
   "metadata": {},
   "outputs": [],
   "source": []
  }
 ],
 "metadata": {
  "kernelspec": {
   "display_name": "Python 3",
   "language": "python",
   "name": "python3"
  },
  "language_info": {
   "codemirror_mode": {
    "name": "ipython",
    "version": 3
   },
   "file_extension": ".py",
   "mimetype": "text/x-python",
   "name": "python",
   "nbconvert_exporter": "python",
   "pygments_lexer": "ipython3",
   "version": "3.8.3"
  }
 },
 "nbformat": 4,
 "nbformat_minor": 4
}
